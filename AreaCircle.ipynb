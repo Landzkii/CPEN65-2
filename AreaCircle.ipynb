{
  "nbformat": 4,
  "nbformat_minor": 0,
  "metadata": {
    "colab": {
      "provenance": [],
      "authorship_tag": "ABX9TyPZ5G7OBNfwVfezDTIviF1S",
      "include_colab_link": true
    },
    "kernelspec": {
      "name": "python3",
      "display_name": "Python 3"
    },
    "language_info": {
      "name": "python"
    }
  },
  "cells": [
    {
      "cell_type": "markdown",
      "metadata": {
        "id": "view-in-github",
        "colab_type": "text"
      },
      "source": [
        "<a href=\"https://colab.research.google.com/github/LoricaLandon/CPEN65-2/blob/main/AreaCircle.ipynb\" target=\"_parent\"><img src=\"https://colab.research.google.com/assets/colab-badge.svg\" alt=\"Open In Colab\"/></a>"
      ]
    },
    {
      "cell_type": "code",
      "execution_count": null,
      "metadata": {
        "colab": {
          "base_uri": "https://localhost:8080/"
        },
        "id": "r_zfZmAWXznz",
        "outputId": "5e66eb5e-2367-4871-ca70-e82992cedd01"
      },
      "outputs": [
        {
          "output_type": "stream",
          "name": "stdout",
          "text": [
            "Enter radius of circle: 5\n",
            "Area of circle: 78.54\n",
            "Enter diameter of circle: 20.15\n",
            "Area of circle: 318.89\n"
          ]
        }
      ],
      "source": [
        "import math\n",
        "class circle():\n",
        "    def __init__(self,radius):\n",
        "        self.radius=radius\n",
        "    def area(self):\n",
        "        return math.pi*(self.radius**2)\n",
        "\n",
        "r=float(input(\"Enter radius of circle: \"))\n",
        "obj=circle(r)\n",
        "print(\"Area of circle:\",round(obj.area(),2))\n",
        "\n",
        "class circle2():\n",
        "    def __init__(self,diameter):\n",
        "        self.diameter=diameter\n",
        "    def area2(self):\n",
        "        return (math.pi*(self.diameter**2))/4\n",
        "\n",
        "d=float(input(\"Enter diameter of circle: \"))\n",
        "obj2=circle2(d)\n",
        "print(\"Area of circle:\",round(obj2.area2(),2))\n",
        "\n",
        "\n"
      ]
    }
  ]
}