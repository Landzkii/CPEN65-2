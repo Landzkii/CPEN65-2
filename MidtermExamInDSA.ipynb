{
  "nbformat": 4,
  "nbformat_minor": 0,
  "metadata": {
    "colab": {
      "provenance": [],
      "authorship_tag": "ABX9TyOs5wsWi3wRmpn8eY1iDdUM",
      "include_colab_link": true
    },
    "kernelspec": {
      "name": "python3",
      "display_name": "Python 3"
    },
    "language_info": {
      "name": "python"
    }
  },
  "cells": [
    {
      "cell_type": "markdown",
      "metadata": {
        "id": "view-in-github",
        "colab_type": "text"
      },
      "source": [
        "<a href=\"https://colab.research.google.com/github/LoricaLandon/CPEN65-2/blob/main/MidtermExamInDSA.ipynb\" target=\"_parent\"><img src=\"https://colab.research.google.com/assets/colab-badge.svg\" alt=\"Open In Colab\"/></a>"
      ]
    },
    {
      "cell_type": "markdown",
      "source": [
        "Midterm Exam in DSA"
      ],
      "metadata": {
        "id": "cT_yce39B07X"
      }
    },
    {
      "cell_type": "code",
      "source": [
        "#Write a Python program to create an array of 10 integers and display the array items. Access individual elements through indexes and compute for the sum.\n",
        "#1\n",
        "import numpy as np\n",
        "\n",
        "a = np.array([1,2,3,4,5,6,7,8,9,10])\n",
        "indexlist = [0,1,2,3]\n",
        "\n",
        "print(\"Original List: \" + str(a))\n",
        "print(\"Index List: \"+ str(indexlist))\n",
        "\n",
        "reslist = [a[i] for i in indexlist]\n",
        "\n",
        "print (\"Result list : \" + str(reslist))\n",
        "\n",
        "print(\"Sum of result list: \")\n",
        "indices = [1,3,4,9]\n",
        "a[indices].sum()"
      ],
      "metadata": {
        "colab": {
          "base_uri": "https://localhost:8080/"
        },
        "id": "58R5pzamVbTN",
        "outputId": "fc024b58-38c5-400b-ad59-1c1b8231e733"
      },
      "execution_count": 35,
      "outputs": [
        {
          "output_type": "stream",
          "name": "stdout",
          "text": [
            "Original List: [ 1  2  3  4  5  6  7  8  9 10]\n",
            "Index List: [0, 1, 2, 3]\n",
            "Result list : [1, 2, 3, 4]\n",
            "Sum of result list: \n"
          ]
        },
        {
          "output_type": "execute_result",
          "data": {
            "text/plain": [
              "21"
            ]
          },
          "metadata": {},
          "execution_count": 35
        }
      ]
    },
    {
      "cell_type": "code",
      "source": [],
      "metadata": {
        "id": "HUVxY7TYSuj5"
      },
      "execution_count": null,
      "outputs": []
    },
    {
      "cell_type": "code",
      "source": [
        "#Write a Python program to append a new item to the end of the array. Original array: numbers = [1, 2, 3, 4, 5, 6, 7, 8, 9, 10]\n",
        "#2\n",
        "\n",
        "import array as arr\n",
        "arr = [1, 2, 3, 4, 5, 6, 7, 8, 9, 10]\n",
        "print(\"The original array is \", arr)\n",
        "x = int(input(\"what number would you like to input? \"))\n",
        "arr.append(x)\n",
        "print(\"The appended array is\", arr)"
      ],
      "metadata": {
        "colab": {
          "base_uri": "https://localhost:8080/"
        },
        "id": "zkHW4LVlHw0T",
        "outputId": "9960a32e-734a-4933-b1c4-517b5dbfc5b7"
      },
      "execution_count": 16,
      "outputs": [
        {
          "output_type": "stream",
          "name": "stdout",
          "text": [
            "The original array is  [1, 2, 3, 4, 5, 6, 7, 8, 9, 10]\n",
            "what number would you like to input? 100\n",
            "The appended array is [1, 2, 3, 4, 5, 6, 7, 8, 9, 10, 100]\n"
          ]
        }
      ]
    },
    {
      "cell_type": "code",
      "source": [
        "#Write a Python program to insert a new item before the second element in an existing array. Original array: numbers = [1, 2, 3, 4, 5, 6, 7, 8, 9, 10]\n",
        "#3\n",
        "\n",
        "import array as arr\n",
        "arr = [1, 2, 3, 4, 5, 6, 7, 8, 9, 10]\n",
        "print(\"The original array is \", arr )\n",
        "x = int(input(\"what number would you like to input? \"))\n",
        "arr.insert(1, x)\n",
        "print(\"The new list of array is \", arr)\n"
      ],
      "metadata": {
        "colab": {
          "base_uri": "https://localhost:8080/"
        },
        "id": "Z1H5GfafEUpy",
        "outputId": "ef9d5887-fba0-469e-a6de-d9ac502f7cca"
      },
      "execution_count": 36,
      "outputs": [
        {
          "output_type": "stream",
          "name": "stdout",
          "text": [
            "The original array is  [1, 2, 3, 4, 5, 6, 7, 8, 9, 10]\n",
            "what number would you like to input? 100\n",
            "The new list of array is  [1, 100, 2, 3, 4, 5, 6, 7, 8, 9, 10]\n"
          ]
        }
      ]
    },
    {
      "cell_type": "code",
      "source": [],
      "metadata": {
        "id": "wQrnDBmYfOIN"
      },
      "execution_count": null,
      "outputs": []
    },
    {
      "cell_type": "code",
      "source": [
        "#Write a Python program to reverse the order of the items in the array. Original array: numbers = [5, 4, 3, 2, 1]\n",
        "#4\n",
        "\n",
        "import array as arr\n",
        "arr = [5,4,3,2,1]\n",
        "arr.reverse()\n",
        "print(arr)\n"
      ],
      "metadata": {
        "colab": {
          "base_uri": "https://localhost:8080/"
        },
        "id": "rNhHvQbUC_zf",
        "outputId": "5eaf1827-1592-41e3-fd82-420ee4db4552"
      },
      "execution_count": 4,
      "outputs": [
        {
          "output_type": "stream",
          "name": "stdout",
          "text": [
            "[1, 2, 3, 4, 5]\n"
          ]
        }
      ]
    },
    {
      "cell_type": "code",
      "source": [
        "#Write a Python program to get the length of the array. Original array: numbers =\n",
        "[5, 4, 3, 2, 1]\n",
        "#5\n",
        "\n",
        "import array as arr\n",
        "arr = [5,4,3,2,1]\n",
        "x = len(arr)\n",
        "print(x)"
      ],
      "metadata": {
        "colab": {
          "base_uri": "https://localhost:8080/"
        },
        "id": "i6Fxk27EB8pO",
        "outputId": "d75cadc4-5411-43c5-e292-9aae1a98dc55"
      },
      "execution_count": 2,
      "outputs": [
        {
          "output_type": "stream",
          "name": "stdout",
          "text": [
            "5\n"
          ]
        }
      ]
    }
  ]
}