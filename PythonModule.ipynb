{
  "nbformat": 4,
  "nbformat_minor": 0,
  "metadata": {
    "colab": {
      "provenance": [],
      "authorship_tag": "ABX9TyNwziVyXrh174i01ppH7hpQ",
      "include_colab_link": true
    },
    "kernelspec": {
      "name": "python3",
      "display_name": "Python 3"
    },
    "language_info": {
      "name": "python"
    }
  },
  "cells": [
    {
      "cell_type": "markdown",
      "metadata": {
        "id": "view-in-github",
        "colab_type": "text"
      },
      "source": [
        "<a href=\"https://colab.research.google.com/github/LoricaLandon/CPEN65-2/blob/main/PythonModule.ipynb\" target=\"_parent\"><img src=\"https://colab.research.google.com/assets/colab-badge.svg\" alt=\"Open In Colab\"/></a>"
      ]
    },
    {
      "cell_type": "markdown",
      "source": [
        "Array Module in Python"
      ],
      "metadata": {
        "id": "RAt_41RgNlQw"
      }
    },
    {
      "cell_type": "code",
      "source": [
        "# getting typecode\n",
        "import array as arr\n",
        "arr.typecodes\n",
        "a = arr.array('i', [1,2,3,4,5])\n",
        "a.typecode\n",
        "print(a.typecode)\n",
        "b = arr.array('f', [1.5,2.5,3.5,4.5,5.5])\n",
        "b.typecode\n",
        "print(b.typecode)"
      ],
      "metadata": {
        "colab": {
          "base_uri": "https://localhost:8080/"
        },
        "id": "ywaeGOABOHxI",
        "outputId": "e98e433b-343c-4b36-eba4-8e72dcca918c"
      },
      "execution_count": 3,
      "outputs": [
        {
          "output_type": "stream",
          "name": "stdout",
          "text": [
            "i\n",
            "f\n"
          ]
        }
      ]
    },
    {
      "cell_type": "code",
      "source": [
        "#What are the output of these codes?\n",
        "import array as arr\n",
        "a = arr.array('i', [4,5,6,7])\n",
        "print(a)\n",
        "\n",
        "c = a.insert(1,2)\n",
        "print(a)\n",
        "a.insert(-1,0)\n",
        "print(a)\n",
        "a.insert(6,8)\n",
        "print(a)\n",
        "a.insert(10,-1)\n",
        "print(a)"
      ],
      "metadata": {
        "colab": {
          "base_uri": "https://localhost:8080/"
        },
        "id": "B-pkmzycPnBd",
        "outputId": "6afad67c-c536-429f-e25e-6b77ef5b6833"
      },
      "execution_count": 8,
      "outputs": [
        {
          "output_type": "stream",
          "name": "stdout",
          "text": [
            "array('i', [4, 5, 6, 7])\n",
            "array('i', [4, 2, 5, 6, 7])\n",
            "array('i', [4, 2, 5, 6, 0, 7])\n",
            "array('i', [4, 2, 5, 6, 0, 7, 8])\n",
            "array('i', [4, 2, 5, 6, 0, 7, 8, -1])\n"
          ]
        }
      ]
    },
    {
      "cell_type": "code",
      "source": [
        "#Python program to creat a singly linked of vowel in English\n",
        "\n",
        "#Node class\n",
        "\n",
        "class Node:\n",
        "  #funtion to iitialize the node object\n",
        "  def __init__(self, data):\n",
        "    self.data = data #assign data\n",
        "    self.next = None #initialize as null/empty\n",
        "\n",
        "\n",
        "#linked List that contains node object\n",
        "\n",
        "class LinkedList:\n",
        "\n",
        "  def __init__(self):\n",
        "    self.head = None\n",
        "\n",
        "  def printlist(self):\n",
        "    temp = self.head\n",
        "    while (temp):\n",
        "      print(temp.data)\n",
        "      temp = temp.next\n",
        "\n",
        "\n",
        "#code execution startting from empty list\n",
        "llist = LinkedList()\n",
        "llist.head = Node(\"a\")\n",
        "second = Node(\"e\")\n",
        "third = Node(\"i\")\n",
        "fourth = Node(\"o\")\n",
        "fifth = Node(\"u\")\n",
        "\n",
        "llist.head.next = second\n",
        "second.next = third\n",
        "third.next = fourth\n",
        "fourth.next = fifth\n",
        "\n",
        "llist.printlist()\n",
        "\n"
      ],
      "metadata": {
        "colab": {
          "base_uri": "https://localhost:8080/"
        },
        "id": "KiWbsCmLVzlZ",
        "outputId": "66784487-0690-41ae-b3c1-7cf6034b35e5"
      },
      "execution_count": 14,
      "outputs": [
        {
          "output_type": "stream",
          "name": "stdout",
          "text": [
            "a\n",
            "e\n",
            "i\n",
            "o\n",
            "u\n"
          ]
        }
      ]
    }
  ]
}