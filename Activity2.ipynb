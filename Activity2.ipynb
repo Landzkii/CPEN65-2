{
  "nbformat": 4,
  "nbformat_minor": 0,
  "metadata": {
    "colab": {
      "provenance": [],
      "authorship_tag": "ABX9TyMqZD7+V2NTjXSgG8nxlnc+",
      "include_colab_link": true
    },
    "kernelspec": {
      "name": "python3",
      "display_name": "Python 3"
    },
    "language_info": {
      "name": "python"
    }
  },
  "cells": [
    {
      "cell_type": "markdown",
      "metadata": {
        "id": "view-in-github",
        "colab_type": "text"
      },
      "source": [
        "<a href=\"https://colab.research.google.com/github/LoricaLandon/CPEN65-2/blob/main/Activity2.ipynb\" target=\"_parent\"><img src=\"https://colab.research.google.com/assets/colab-badge.svg\" alt=\"Open In Colab\"/></a>"
      ]
    },
    {
      "cell_type": "code",
      "execution_count": 28,
      "metadata": {
        "colab": {
          "base_uri": "https://localhost:8080/"
        },
        "id": "Bba1VkoKeAce",
        "outputId": "382a256d-71d3-468f-db56-23b65b695f10"
      },
      "outputs": [
        {
          "output_type": "stream",
          "name": "stdout",
          "text": [
            "What is your name? landon \n",
            "Original order of name is:  ['l', 'a', 'n', 'd', 'o', 'n', ' ']\n",
            "Reversed order of name is:  [' ', 'n', 'o', 'd', 'n', 'a', 'l']\n"
          ]
        }
      ],
      "source": [
        "name = str(input(\"What is your name? \"))\n",
        "listname = list(name)\n",
        "print(\"Original order of name is: \",listname)\n",
        "\n",
        "listname.reverse()\n",
        "print(\"Reversed order of name is: \",listname)"
      ]
    }
  ]
}